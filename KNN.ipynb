{
 "cells": [
  {
   "cell_type": "code",
   "execution_count": 1,
   "metadata": {},
   "outputs": [
    {
     "name": "stdout",
     "output_type": "stream",
     "text": [
      "distance 1.4577379737113252\n",
      "distances [([4.75, 6.25, 1], 1.4577379737113252)]\n",
      "distance 1.2747548783981961\n",
      "distances [([4.75, 6.25, 1], 1.4577379737113252), ([7.25, 5.75, 1], 1.2747548783981961)]\n",
      "distance 2.4748737341529163\n",
      "distances [([4.75, 6.25, 1], 1.4577379737113252), ([7.25, 5.75, 1], 1.2747548783981961), ([4.25, 3.75, 0], 2.4748737341529163)]\n",
      "distance 3.1622776601683795\n",
      "distances [([4.75, 6.25, 1], 1.4577379737113252), ([7.25, 5.75, 1], 1.2747548783981961), ([4.25, 3.75, 0], 2.4748737341529163), ([5.0, 2.5, 0], 3.1622776601683795)]\n",
      "distance 1.346291201783626\n",
      "distances [([4.75, 6.25, 1], 1.4577379737113252), ([7.25, 5.75, 1], 1.2747548783981961), ([4.25, 3.75, 0], 2.4748737341529163), ([5.0, 2.5, 0], 3.1622776601683795), ([5.5, 6.75, 1], 1.346291201783626)]\n",
      "distance 3.75\n",
      "distances [([4.75, 6.25, 1], 1.4577379737113252), ([7.25, 5.75, 1], 1.2747548783981961), ([4.25, 3.75, 0], 2.4748737341529163), ([5.0, 2.5, 0], 3.1622776601683795), ([5.5, 6.75, 1], 1.346291201783626), ([3.0, 3.25, 0], 3.75)]\n",
      "distance 2.5\n",
      "distances [([4.75, 6.25, 1], 1.4577379737113252), ([7.25, 5.75, 1], 1.2747548783981961), ([4.25, 3.75, 0], 2.4748737341529163), ([5.0, 2.5, 0], 3.1622776601683795), ([5.5, 6.75, 1], 1.346291201783626), ([3.0, 3.25, 0], 3.75), ([4.0, 4.0, 0], 2.5)]\n",
      "distance 1.6007810593582121\n",
      "distances [([4.75, 6.25, 1], 1.4577379737113252), ([7.25, 5.75, 1], 1.2747548783981961), ([4.25, 3.75, 0], 2.4748737341529163), ([5.0, 2.5, 0], 3.1622776601683795), ([5.5, 6.75, 1], 1.346291201783626), ([3.0, 3.25, 0], 3.75), ([4.0, 4.0, 0], 2.5), ([7.0, 4.25, 1], 1.6007810593582121)]\n",
      "distance 2.5124689052802225\n",
      "distances [([4.75, 6.25, 1], 1.4577379737113252), ([7.25, 5.75, 1], 1.2747548783981961), ([4.25, 3.75, 0], 2.4748737341529163), ([5.0, 2.5, 0], 3.1622776601683795), ([5.5, 6.75, 1], 1.346291201783626), ([3.0, 3.25, 0], 3.75), ([4.0, 4.0, 0], 2.5), ([7.0, 4.25, 1], 1.6007810593582121), ([3.5, 5.25, 0], 2.5124689052802225)]\n",
      "distance 1.5811388300841898\n",
      "distances [([4.75, 6.25, 1], 1.4577379737113252), ([7.25, 5.75, 1], 1.2747548783981961), ([4.25, 3.75, 0], 2.4748737341529163), ([5.0, 2.5, 0], 3.1622776601683795), ([5.5, 6.75, 1], 1.346291201783626), ([3.0, 3.25, 0], 3.75), ([4.0, 4.0, 0], 2.5), ([7.0, 4.25, 1], 1.6007810593582121), ([3.5, 5.25, 0], 2.5124689052802225), ([4.5, 5.0, 0], 1.5811388300841898)]\n",
      "\n",
      " Neighbors [[7.25, 5.75, 1], [5.5, 6.75, 1], [4.75, 6.25, 1]]\n",
      "\n",
      " Output values [1, 1, 1]\n",
      "Expected 1, Got 1.\n"
     ]
    }
   ],
   "source": [
    "from math import sqrt\n",
    "import time\n",
    " \n",
    "# calculate the Euclidean distance between two vectors\n",
    "def euclidean_distance(row1, row2):\n",
    "\tdistance = 0.0\n",
    "\tfor i in range(len(row1)-1):\n",
    "\t\tdistance += (row1[i] - row2[i])**2\n",
    "\treturn sqrt(distance)\n",
    " \n",
    "# Locate the most similar neighbors\n",
    "def get_neighbors(train, test_row, num_neighbors):\n",
    "\tdistances = list()\n",
    "\tfor train_row in train:\n",
    "\t\tdist = euclidean_distance(test_row, train_row)\n",
    "\t\ttime.sleep(5)\n",
    "\t\tprint(\"distance\", dist)\n",
    "\t\tdistances.append((train_row, dist))\n",
    "\t\ttime.sleep(5)\n",
    "\t\tprint(\"distances\", distances)\n",
    "\tdistances.sort(key=lambda tup: tup[1])\n",
    "\tneighbors = list()\n",
    "\tfor i in range(num_neighbors):\n",
    "\t\tneighbors.append(distances[i][0])\n",
    "\treturn neighbors\n",
    " \n",
    "# Make a classification prediction with neighbors\n",
    "def predict_classification(train, test_row, num_neighbors):\n",
    "\tneighbors = get_neighbors(train, test_row, num_neighbors)\n",
    "\tprint(\"\\n Neighbors\", neighbors)\n",
    "\toutput_values = [row[-1] for row in neighbors]\n",
    "\tprint(\"\\n Output values\", output_values)\n",
    "\tprediction = max(set(output_values), key=output_values.count)\n",
    "\treturn prediction\n",
    " \n",
    "# Test distance function\n",
    "dataset = [\n",
    "    [4.75,6.25,1],\n",
    "\t[7.25,5.75,1],\n",
    "\t[4.25,3.75,0],\n",
    "\t[5.00,2.50,0],\n",
    "    [5.50,6.75,1],\n",
    "    [3.00,3.25,0],\n",
    "    [4.00,4.00,0],\n",
    "    [7.00,4.25,1],\n",
    "    [3.50,5.25,0],\n",
    "    [4.50,5.00,0],\n",
    "\t]\n",
    "\n",
    "testing_data = [6.00,5.50,0]\n",
    "prediction = predict_classification(dataset, testing_data, 3)\n",
    "print('Expected %d, Got %d.' % (dataset[0][-1], prediction))"
   ]
  },
  {
   "cell_type": "code",
   "execution_count": null,
   "metadata": {},
   "outputs": [],
   "source": []
  }
 ],
 "metadata": {
  "kernelspec": {
   "display_name": "Python 3",
   "language": "python",
   "name": "python3"
  },
  "language_info": {
   "codemirror_mode": {
    "name": "ipython",
    "version": 3
   },
   "file_extension": ".py",
   "mimetype": "text/x-python",
   "name": "python",
   "nbconvert_exporter": "python",
   "pygments_lexer": "ipython3",
   "version": "3.7.6"
  }
 },
 "nbformat": 4,
 "nbformat_minor": 4
}
